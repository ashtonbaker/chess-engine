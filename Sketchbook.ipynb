{
 "cells": [
  {
   "cell_type": "code",
   "execution_count": 2,
   "metadata": {
    "collapsed": true
   },
   "outputs": [],
   "source": [
    "import numpy as np\n",
    "import chess"
   ]
  },
  {
   "cell_type": "code",
   "execution_count": 3,
   "metadata": {},
   "outputs": [],
   "source": [
    "relu = np.vectorize(lambda x: max(0, x))\n",
    "\n",
    "class input_layer:\n",
    "    def __init__(self, weights):\n",
    "        self.weights = weights\n",
    "        self.shape = weights.shape\n",
    "    \n",
    "    def output(self, x):\n",
    "        try:\n",
    "            return np.dot(x, self.weights)\n",
    "        except ValueError:\n",
    "            print(\"Error: Input shape {0!s} does not \"\n",
    "                  \"match node shape {1!s}.\".format(x.shape, self.shape))\n",
    "        \n",
    "\n",
    "class dense_layer:\n",
    "    def __init__(self, weights, input_layer):\n",
    "        self.weights = weights\n",
    "        self.shape = weights.shape\n",
    "        self.input_layer = input_layer\n",
    "    \n",
    "    def output(self, x):\n",
    "        try:\n",
    "            return relu(np.dot(self.input_layer.output(x), self.weights))\n",
    "        except ValueError:\n",
    "            print(\"Error: Input shape {0!s} does not \"\n",
    "                  \"match node shape {1!s}.\".format(x.shape, self.shape))"
   ]
  },
  {
   "cell_type": "code",
   "execution_count": 4,
   "metadata": {},
   "outputs": [],
   "source": [
    "x = []\n",
    "x.append(input_layer(np.random.random((3, 4))))\n",
    "\n",
    "for i in range(0, 10):\n",
    "    m = x[-1].shape[1]\n",
    "    n = np.random.randint(1, 10)\n",
    "    x.append(dense_layer( np.random.random((m,n)), x[-1]))"
   ]
  },
  {
   "cell_type": "code",
   "execution_count": 93,
   "metadata": {},
   "outputs": [],
   "source": [
    "class network:\n",
    "    def __init__(self):\n",
    "        self.layers = []\n",
    "    \n",
    "    def output(self, x):\n",
    "        result = x\n",
    "        \n",
    "        for layer in self.layers[:-1]:\n",
    "            result = relu(np.dot(result, layer))\n",
    "        \n",
    "        result = np.dot(result, layer[-1])\n",
    "        result = \n",
    "        \n",
    "        return result"
   ]
  },
  {
   "cell_type": "code",
   "execution_count": 94,
   "metadata": {},
   "outputs": [],
   "source": [
    "x = network()\n",
    "\n",
    "x.layers.append( np.random.random((100, 100)) )\n",
    "\n",
    "\n",
    "for i in range(0, 10):\n",
    "    m = x.layers[-1].shape[1]\n",
    "    n = np.random.randint(10, 100)\n",
    "    x.layers.append(np.random.random((m, n)))\n",
    "\n",
    "x.layers.append( np.random.random((n, 2)) )"
   ]
  },
  {
   "cell_type": "code",
   "execution_count": 99,
   "metadata": {},
   "outputs": [
    {
     "name": "stdout",
     "output_type": "stream",
     "text": [
      "[  1.28703697e+17   1.51919823e+17]\n"
     ]
    }
   ],
   "source": [
    "print(x.output(np.random.random((100,))))"
   ]
  },
  {
   "cell_type": "code",
   "execution_count": 108,
   "metadata": {},
   "outputs": [
    {
     "data": {
      "text/plain": [
       "[1, 2, 3, 4, 5]"
      ]
     },
     "execution_count": 108,
     "metadata": {},
     "output_type": "execute_result"
    }
   ],
   "source": [
    "[1, 2, 3, 4, 5, 6]"
   ]
  },
  {
   "cell_type": "code",
   "execution_count": null,
   "metadata": {
    "collapsed": true
   },
   "outputs": [],
   "source": []
  }
 ],
 "metadata": {
  "kernelspec": {
   "display_name": "Python 3",
   "language": "python",
   "name": "python3"
  }
 },
 "nbformat": 4,
 "nbformat_minor": 2
}
