{
 "cells": [
  {
   "cell_type": "code",
   "execution_count": 123,
   "metadata": {
    "collapsed": true
   },
   "outputs": [],
   "source": [
    "import numpy as np\n",
    "import re"
   ]
  },
  {
   "cell_type": "code",
   "execution_count": 124,
   "metadata": {
    "collapsed": true
   },
   "outputs": [],
   "source": [
    "fen_strings = ['rnbqkbnr/pppppppp/8/8/8/8/PPPPPPPP/RNBQKBNR w KQkq - 0 1',\n",
    "               'rnbqkbnr/pppppppp/8/8/4P3/8/PPPP1PPP/RNBQKBNR b KQkq e3 0 1',\n",
    "               'rnbqkbnr/pp1ppppp/8/2p5/4P3/8/PPPP1PPP/RNBQKBNR w KQkq c6 0 2',\n",
    "               'rnbqkbnr/pp1ppppp/8/2p5/4P3/5N2/PPPP1PPP/RNBQKB1R b KQkq - 1 2']"
   ]
  },
  {
   "cell_type": "code",
   "execution_count": 125,
   "metadata": {},
   "outputs": [],
   "source": [
    "def fen_to_input(fen):\n",
    "    piece_translator = {'P' : [ 1, 0, 0, 0, 0, 0],\n",
    "                        'R' : [ 0, 1, 0, 0, 0, 0],\n",
    "                        'N' : [ 0, 0, 1, 0, 0, 0],\n",
    "                        'B' : [ 0, 0, 0, 1, 0, 0],\n",
    "                        'Q' : [ 0, 0, 0, 0, 1, 0],\n",
    "                        'K' : [ 0, 0, 0, 0, 0, 1],\n",
    "                        'p' : [-1, 0, 0, 0, 0, 0],\n",
    "                        'r' : [ 0,-1, 0, 0, 0, 0],\n",
    "                        'n' : [ 0, 0,-1, 0, 0, 0],\n",
    "                        'b' : [ 0, 0, 0,-1, 0, 0],\n",
    "                        'q' : [ 0, 0, 0, 0,-1, 0],\n",
    "                        'k' : [ 0, 0, 0, 0, 0,-1],\n",
    "                        ' ' : [ 0, 0, 0, 0, 0, 0]}\n",
    "\n",
    "    result = np.zeros((8,64), dtype=np.int8)\n",
    "    \n",
    "    board, to_move, castling_rights, en_passant, halfmove, fullmove = fen.split(' ')\n",
    "    \n",
    "    ## PREPROCESS\n",
    "    board = board.replace('/', '')\n",
    "\n",
    "    for i in range(2, 9):\n",
    "        board = board.replace(str(i), ' ' * i)\n",
    "\n",
    "    for i in range(len(board)):\n",
    "        result[:6,i] = piece_translator[board[i]]\n",
    "        \n",
    "    if to_move == 'w':\n",
    "        result[7, 0] = 1\n",
    "    elif to_move == 'b':\n",
    "        result[7, 0] = -1\n",
    "        \n",
    "    if not en_passant == '-':\n",
    "        row = 9 - int(en_passant[1])\n",
    "        col = ord(en_passant[0]) - 96\n",
    "        pos = row * col - 1\n",
    "\n",
    "        result[6, pos] = result[7, 0]\n",
    "    \n",
    "    if 'K' in castling_rights:\n",
    "        result[7,1] = 1\n",
    "\n",
    "    if 'Q' in castling_rights:\n",
    "        result[7,2] = 1\n",
    "\n",
    "    if 'k' in castling_rights:\n",
    "        result[7,3] = -1\n",
    "\n",
    "    if 'q' in castling_rights:\n",
    "        result[7,4] = -1\n",
    "        \n",
    "    return result"
   ]
  },
  {
   "cell_type": "code",
   "execution_count": 1,
   "metadata": {},
   "outputs": [
    {
     "name": "stderr",
     "output_type": "stream",
     "text": [
      "Using TensorFlow backend.\n"
     ]
    }
   ],
   "source": [
    "import numpy as np\n",
    "from keras.layers import Dense\n",
    "from keras.models import Sequential\n",
    "from keras.optimizers import SGD"
   ]
  },
  {
   "cell_type": "code",
   "execution_count": 119,
   "metadata": {
    "collapsed": true
   },
   "outputs": [],
   "source": [
    "# Import everything we need.\n",
    "import numpy as np\n",
    "import keras\n",
    "from keras.layers import Dense\n",
    "from keras.layers import Flatten\n",
    "from keras.models import Sequential\n",
    "\n",
    "standard_layer = Dense(100,\n",
    "                       activation = 'relu',\n",
    "                       weights = [np.random.random((100,100)),np.random.random(100)]\n",
    "                       )\n",
    "\n",
    "\n",
    "# Build the model\n",
    "model = Sequential() # Sequential model:\n",
    "model.add(Dense(100, activation = 'relu', input_shape=(8,64),\n",
    "               weights=[np.random.random((64,100)), np.random.random((100,))]))\n",
    "model.add(standard_layer)\n",
    "model.add(standard_layer)\n",
    "model.add(standard_layer)\n",
    "model.add(standard_layer)\n",
    "model.add(standard_layer)\n",
    "model.add(standard_layer)\n",
    "model.add(standard_layer)\n",
    "model.add(standard_layer)\n",
    "model.add(Dense(2, activation = 'softmax'))"
   ]
  },
  {
   "cell_type": "code",
   "execution_count": 121,
   "metadata": {},
   "outputs": [
    {
     "data": {
      "text/plain": [
       "array([[ 0.41868708,  0.11322462,  0.39242667, ...,  0.35829583,\n",
       "         0.31976575,  0.96836966],\n",
       "       [ 0.37236232,  0.76908851,  0.11280847, ...,  0.5933333 ,\n",
       "         0.24942395,  0.44184029],\n",
       "       [ 0.57407349,  0.64515376,  0.42557988, ...,  0.66215932,\n",
       "         0.29121712,  0.47021866],\n",
       "       ..., \n",
       "       [ 0.21678397,  0.60049266,  0.63349026, ...,  0.6885711 ,\n",
       "         0.50743431,  0.80080467],\n",
       "       [ 0.32676324,  0.27421075,  0.88359195, ...,  0.82012218,\n",
       "         0.90175802,  0.993819  ],\n",
       "       [ 0.72929031,  0.12560391,  0.32315949, ...,  0.60887462,\n",
       "         0.48863217,  0.80949956]], dtype=float32)"
      ]
     },
     "execution_count": 121,
     "metadata": {},
     "output_type": "execute_result"
    }
   ],
   "source": [
    "model.layers[0].get_weights()[0]"
   ]
  },
  {
   "cell_type": "code",
   "execution_count": null,
   "metadata": {},
   "outputs": [],
   "source": [
    "f = fen_to_input(fen_strings[0])\n",
    "model.predict(np.array([f]))"
   ]
  },
  {
   "cell_type": "code",
   "execution_count": null,
   "metadata": {
    "collapsed": true
   },
   "outputs": [],
   "source": []
  }
 ],
 "metadata": {
  "kernelspec": {
   "display_name": "Python 3",
   "language": "python",
   "name": "python3"
  },
  "language_info": {
   "codemirror_mode": {
    "name": "ipython",
    "version": 3
   },
   "file_extension": ".py",
   "mimetype": "text/x-python",
   "name": "python",
   "nbconvert_exporter": "python",
   "pygments_lexer": "ipython3",
   "version": "3.6.0"
  }
 },
 "nbformat": 4,
 "nbformat_minor": 2
}
