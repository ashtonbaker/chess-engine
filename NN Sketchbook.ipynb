{
 "cells": [
  {
   "cell_type": "code",
   "execution_count": 6,
   "metadata": {
    "collapsed": false
   },
   "outputs": [],
   "source": [
    "import numpy as np\n",
    "import random\n",
    "import pickle\n",
    "import chess\n",
    "import sqlite3"
   ]
  },
  {
   "cell_type": "code",
   "execution_count": 53,
   "metadata": {
    "collapsed": true
   },
   "outputs": [],
   "source": [
    "relu = np.vectorize(lambda x: max(0, x))\n",
    "\n",
    "class network:\n",
    "    def __init__(self):\n",
    "        self.layers = []\n",
    "    \n",
    "    def output(self, x):\n",
    "        result = x\n",
    "        \n",
    "        # Compute values at each layer\n",
    "        for layer in self.layers[:-1]:\n",
    "            result = relu(np.dot(result, layer))\n",
    "        \n",
    "        # Apply softmax to final layer\n",
    "        result = np.dot(result, self.layers[-1])\n",
    "        #result = result / np.linalg.norm(result)\n",
    "        result = result - np.max(result)\n",
    "        result = np.exp(result) / np.sum(np.exp(result))\n",
    "        \n",
    "        return result\n",
    "    \n",
    "def fen_to_input(fen):\n",
    "    piece_translator = {'P' : [ 1, 0, 0, 0, 0, 0],\n",
    "                        'R' : [ 0, 1, 0, 0, 0, 0],\n",
    "                        'N' : [ 0, 0, 1, 0, 0, 0],\n",
    "                        'B' : [ 0, 0, 0, 1, 0, 0],\n",
    "                        'Q' : [ 0, 0, 0, 0, 1, 0],\n",
    "                        'K' : [ 0, 0, 0, 0, 0, 1],\n",
    "                        'p' : [-1, 0, 0, 0, 0, 0],\n",
    "                        'r' : [ 0,-1, 0, 0, 0, 0],\n",
    "                        'n' : [ 0, 0,-1, 0, 0, 0],\n",
    "                        'b' : [ 0, 0, 0,-1, 0, 0],\n",
    "                        'q' : [ 0, 0, 0, 0,-1, 0],\n",
    "                        'k' : [ 0, 0, 0, 0, 0,-1],\n",
    "                        ' ' : [ 0, 0, 0, 0, 0, 0]}\n",
    "\n",
    "    result = np.zeros((453,), dtype=np.int8)\n",
    "    \n",
    "    board, to_move, castling_rights, en_passant, halfmove, fullmove = fen.split(' ')\n",
    "    \n",
    "    ## \n",
    "    board = board.replace('/', '')\n",
    "    \n",
    "    for i in range(1, 9):\n",
    "        board = board.replace(str(i), ' ' * i)\n",
    "        \n",
    "    for i in range(len(board)):\n",
    "        result[i:i+6] = piece_translator[board[i]]\n",
    "    \n",
    "    if to_move == 'w':\n",
    "        result[384] = 1\n",
    "    elif to_move == 'b':\n",
    "        result[384] = -1\n",
    "    \n",
    "    if not en_passant == '-':\n",
    "        row = 9 - int(en_passant[1]) - 1\n",
    "        col = ord(en_passant[0]) - 96 - 1\n",
    "        pos = col + (row * 8)\n",
    "        print(pos)\n",
    "        result[385 + pos] = 1\n",
    "        \n",
    "    if 'K' in castling_rights:\n",
    "        result[449] = 1\n",
    "\n",
    "    if 'Q' in castling_rights:\n",
    "        result[450] = 1\n",
    "\n",
    "    if 'k' in castling_rights:\n",
    "        result[451] = -1\n",
    "\n",
    "    if 'q' in castling_rights:\n",
    "        result[452] = -1\n",
    "    \n",
    "    return result\n",
    "\n",
    "def create_player_database(num_players):\n",
    "    conn = sqlite3.connect('players.db')\n",
    "    c = conn.cursor()\n",
    "    c.execute('''DROP TABLE IF EXISTS players''')\n",
    "    c.execute('''CREATE TABLE players (wins int, losses int, ties int, object blob)''')\n",
    "    \n",
    "    for i in range(num_players):\n",
    "        # Create a new network\n",
    "        x = network()\n",
    "        \n",
    "        # Add an input layer\n",
    "        input_layer_size = np.random.randint(10, 100)\n",
    "        x.layers.append( np.random.random((453, input_layer_size))-0.5)\n",
    "        \n",
    "        # Add 10 to 99 interior layers\n",
    "        num_layers = np.random.randint(10, 100)\n",
    "        for j in range(num_layers):\n",
    "            m = x.layers[-1].shape[1]\n",
    "            n = np.random.randint(10, 100)\n",
    "            x.layers.append(np.random.random((m, n))-0.5)\n",
    "        \n",
    "        \n",
    "        x.layers.append( np.random.random((n, 2)) - 0.5 )\n",
    "        \n",
    "        pdata = pickle.dumps(x, pickle.HIGHEST_PROTOCOL)\n",
    "        \n",
    "        c.execute(\"INSERT INTO players VALUES (0, 0, 0, ?)\", (sqlite3.Binary(pdata), ))\n",
    "        \n",
    "    conn.commit()\n",
    "    conn.close()\n",
    "\n",
    "def select_two_players():\n",
    "    conn = sqlite3.connect('players.db')\n",
    "    c = conn.cursor()\n",
    "    c.execute('''SELECT * FROM players ORDER BY RANDOM() LIMIT 2;''')\n",
    "    \n",
    "    players = []\n",
    "    for row in c:\n",
    "        players.append( pickle.loads(row[2]) )\n",
    "    \n",
    "    return players[0], players[1]\n",
    "\n",
    "def get_move(player, fen_string):\n",
    "    playing_as = fen_string.split(' ')[1]\n",
    "    if playing_as == 'w':\n",
    "        score_index = 0\n",
    "    else:\n",
    "        score_index = 1\n",
    "    \n",
    "    board = chess.Board(fen_string)\n",
    "    \n",
    "    legal_moves = []\n",
    "    for move in board.legal_moves:\n",
    "        legal_moves.append(move)\n",
    "    \n",
    "    best_move = None\n",
    "    max_score = 0\n",
    "    \n",
    "    print(len(legal_moves))\n",
    "    for move in legal_moves:\n",
    "        board.push(move)\n",
    "        x = fen_to_input(board.fen())\n",
    "        score = player.output(x)[score_index]\n",
    "        board.pop()\n",
    "        \n",
    "        if score >= max_score:\n",
    "            best_move = move\n",
    "            max_score = score\n",
    "        \n",
    "    return best_move"
   ]
  },
  {
   "cell_type": "code",
   "execution_count": 54,
   "metadata": {
    "collapsed": false
   },
   "outputs": [],
   "source": [
    "create_player_database(1000)"
   ]
  },
  {
   "cell_type": "code",
   "execution_count": 55,
   "metadata": {
    "collapsed": false
   },
   "outputs": [
    {
     "ename": "TypeError",
     "evalue": "a bytes-like object is required, not 'int'",
     "output_type": "error",
     "traceback": [
      "\u001b[0;31m---------------------------------------------------------------------------\u001b[0m",
      "\u001b[0;31mTypeError\u001b[0m                                 Traceback (most recent call last)",
      "\u001b[0;32m<ipython-input-55-26c8f8ac4dda>\u001b[0m in \u001b[0;36m<module>\u001b[0;34m()\u001b[0m\n\u001b[1;32m      2\u001b[0m \u001b[0;34m\u001b[0m\u001b[0m\n\u001b[1;32m      3\u001b[0m \u001b[0;34m\u001b[0m\u001b[0m\n\u001b[0;32m----> 4\u001b[0;31m \u001b[0mwhite_player\u001b[0m\u001b[0;34m,\u001b[0m \u001b[0mblack_player\u001b[0m \u001b[0;34m=\u001b[0m \u001b[0mselect_two_players\u001b[0m\u001b[0;34m(\u001b[0m\u001b[0;34m)\u001b[0m\u001b[0;34m\u001b[0m\u001b[0m\n\u001b[0m\u001b[1;32m      5\u001b[0m \u001b[0mt1\u001b[0m \u001b[0;34m=\u001b[0m \u001b[0mtime\u001b[0m\u001b[0;34m.\u001b[0m\u001b[0mclock\u001b[0m\u001b[0;34m(\u001b[0m\u001b[0;34m)\u001b[0m\u001b[0;34m\u001b[0m\u001b[0m\n\u001b[1;32m      6\u001b[0m \u001b[0mboard\u001b[0m \u001b[0;34m=\u001b[0m \u001b[0mchess\u001b[0m\u001b[0;34m.\u001b[0m\u001b[0mBoard\u001b[0m\u001b[0;34m(\u001b[0m\u001b[0;34m)\u001b[0m\u001b[0;34m\u001b[0m\u001b[0m\n",
      "\u001b[0;32m<ipython-input-53-fc7509892b79>\u001b[0m in \u001b[0;36mselect_two_players\u001b[0;34m()\u001b[0m\n\u001b[1;32m    112\u001b[0m     \u001b[0mplayers\u001b[0m \u001b[0;34m=\u001b[0m \u001b[0;34m[\u001b[0m\u001b[0;34m]\u001b[0m\u001b[0;34m\u001b[0m\u001b[0m\n\u001b[1;32m    113\u001b[0m     \u001b[0;32mfor\u001b[0m \u001b[0mrow\u001b[0m \u001b[0;32min\u001b[0m \u001b[0mc\u001b[0m\u001b[0;34m:\u001b[0m\u001b[0;34m\u001b[0m\u001b[0m\n\u001b[0;32m--> 114\u001b[0;31m         \u001b[0mplayers\u001b[0m\u001b[0;34m.\u001b[0m\u001b[0mappend\u001b[0m\u001b[0;34m(\u001b[0m \u001b[0mpickle\u001b[0m\u001b[0;34m.\u001b[0m\u001b[0mloads\u001b[0m\u001b[0;34m(\u001b[0m\u001b[0mrow\u001b[0m\u001b[0;34m[\u001b[0m\u001b[0;36m2\u001b[0m\u001b[0;34m]\u001b[0m\u001b[0;34m)\u001b[0m \u001b[0;34m)\u001b[0m\u001b[0;34m\u001b[0m\u001b[0m\n\u001b[0m\u001b[1;32m    115\u001b[0m \u001b[0;34m\u001b[0m\u001b[0m\n\u001b[1;32m    116\u001b[0m     \u001b[0;32mreturn\u001b[0m \u001b[0mplayers\u001b[0m\u001b[0;34m[\u001b[0m\u001b[0;36m0\u001b[0m\u001b[0;34m]\u001b[0m\u001b[0;34m,\u001b[0m \u001b[0mplayers\u001b[0m\u001b[0;34m[\u001b[0m\u001b[0;36m1\u001b[0m\u001b[0;34m]\u001b[0m\u001b[0;34m\u001b[0m\u001b[0m\n",
      "\u001b[0;31mTypeError\u001b[0m: a bytes-like object is required, not 'int'"
     ]
    }
   ],
   "source": [
    "import time\n",
    "\n",
    "\n",
    "white_player, black_player = select_two_players()\n",
    "t1 = time.clock()\n",
    "board = chess.Board()\n",
    "\n",
    "\n",
    "while not board.is_game_over():\n",
    "    if board.turn:\n",
    "        move = get_move(white_player, board.fen())\n",
    "    else:\n",
    "        move = get_move(black_player, board.fen())\n",
    "        \n",
    "    board.push(move)\n",
    "\n",
    "print(board.result())\n",
    "board"
   ]
  },
  {
   "cell_type": "code",
   "execution_count": 48,
   "metadata": {
    "collapsed": false
   },
   "outputs": [
    {
     "name": "stdout",
     "output_type": "stream",
     "text": [
      "22\n",
      "9.059906005859375e-06 0.0 0.0005381107330322266 0.08707356452941895\n"
     ]
    },
    {
     "data": {
      "text/plain": [
       "Move.from_uci('a7a5')"
      ]
     },
     "execution_count": 48,
     "metadata": {},
     "output_type": "execute_result"
    }
   ],
   "source": [
    "get_move(white_player, 'rnbqkbnr/pp1ppppp/8/2p5/4P3/5N2/PPPP1PPP/RNBQKB1R b KQkq - 1 2')"
   ]
  },
  {
   "cell_type": "code",
   "execution_count": null,
   "metadata": {
    "collapsed": true
   },
   "outputs": [],
   "source": []
  }
 ],
 "metadata": {
  "kernelspec": {
   "display_name": "Python 3",
   "language": "python",
   "name": "python3"
  },
  "language_info": {
   "codemirror_mode": {
    "name": "ipython",
    "version": 3
   },
   "file_extension": ".py",
   "mimetype": "text/x-python",
   "name": "python",
   "nbconvert_exporter": "python",
   "pygments_lexer": "ipython3",
   "version": "3.6.0"
  }
 },
 "nbformat": 4,
 "nbformat_minor": 2
}
