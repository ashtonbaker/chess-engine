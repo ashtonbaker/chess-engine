{
 "cells": [
  {
   "cell_type": "code",
   "execution_count": 1,
   "metadata": {
    "collapsed": true
   },
   "outputs": [],
   "source": [
    "import numpy as np\n",
    "import random\n",
    "import pickle\n",
    "import chess"
   ]
  },
  {
   "cell_type": "code",
   "execution_count": 81,
   "metadata": {
    "collapsed": false
   },
   "outputs": [],
   "source": [
    "relu = np.vectorize(lambda x: max(0, x))\n",
    "\n",
    "class network:\n",
    "    def __init__(self):\n",
    "        self.layers = []\n",
    "    \n",
    "    def output(self, x):\n",
    "        result = x\n",
    "        \n",
    "        # Compute values at each layer\n",
    "        for layer in self.layers[:-1]:\n",
    "            result = relu(np.dot(result, layer))\n",
    "        \n",
    "        # Apply softmax to final layer\n",
    "        result = np.dot(result, self.layers[-1])\n",
    "        #result = result / np.linalg.norm(result)\n",
    "        result = result - np.max(result)\n",
    "        result = np.exp(result) / np.sum(np.exp(result))\n",
    "        \n",
    "        return result\n",
    "    \n",
    "    def save(self, file):\n",
    "        np.save(file, self.layers)\n",
    "        \n",
    "        return None\n",
    "    \n",
    "    def load(self, file):\n",
    "        self.layers = [l for l in np.load(file)]\n",
    "        \n",
    "        return None\n",
    "    \n",
    "    def append(self, arr):\n",
    "        self.layers.append(arr)\n",
    "        \n",
    "    \n",
    "def fen_to_input(fen):\n",
    "    piece_translator = {'P' : [ 1, 0, 0, 0, 0, 0],\n",
    "                        'R' : [ 0, 1, 0, 0, 0, 0],\n",
    "                        'N' : [ 0, 0, 1, 0, 0, 0],\n",
    "                        'B' : [ 0, 0, 0, 1, 0, 0],\n",
    "                        'Q' : [ 0, 0, 0, 0, 1, 0],\n",
    "                        'K' : [ 0, 0, 0, 0, 0, 1],\n",
    "                        'p' : [-1, 0, 0, 0, 0, 0],\n",
    "                        'r' : [ 0,-1, 0, 0, 0, 0],\n",
    "                        'n' : [ 0, 0,-1, 0, 0, 0],\n",
    "                        'b' : [ 0, 0, 0,-1, 0, 0],\n",
    "                        'q' : [ 0, 0, 0, 0,-1, 0],\n",
    "                        'k' : [ 0, 0, 0, 0, 0,-1],\n",
    "                        ' ' : [ 0, 0, 0, 0, 0, 0]}\n",
    "\n",
    "    result = np.zeros((453,), dtype=np.int8)\n",
    "    \n",
    "    board, to_move, castling_rights, en_passant, halfmove, fullmove = fen.split(' ')\n",
    "    \n",
    "    board = board.replace('/', '')\n",
    "    \n",
    "    for i in range(1, 9):\n",
    "        board = board.replace(str(i), ' ' * i)\n",
    "        \n",
    "    for i in range(len(board)):\n",
    "        result[i:i+6] = piece_translator[board[i]]\n",
    "    \n",
    "    if to_move == 'w':\n",
    "        result[384] = 1\n",
    "    elif to_move == 'b':\n",
    "        result[384] = -1\n",
    "    \n",
    "    if not en_passant == '-':\n",
    "        row = 9 - int(en_passant[1]) - 1\n",
    "        col = ord(en_passant[0]) - 96 - 1\n",
    "        pos = col + (row * 8)\n",
    "        result[385 + pos] = 1\n",
    "        \n",
    "    if 'K' in castling_rights:\n",
    "        result[449] = 1\n",
    "\n",
    "    if 'Q' in castling_rights:\n",
    "        result[450] = 1\n",
    "\n",
    "    if 'k' in castling_rights:\n",
    "        result[451] = -1\n",
    "\n",
    "    if 'q' in castling_rights:\n",
    "        result[452] = -1\n",
    "    \n",
    "    return result\n",
    "\n",
    "def create_player_database(num_players):\n",
    "    conn = sqlite3.connect('players.db')\n",
    "    c = conn.cursor()\n",
    "    c.execute('''DROP TABLE IF EXISTS players''')\n",
    "    c.execute('''CREATE TABLE players (wins int, losses int, ties int, object blob)''')\n",
    "    \n",
    "    for i in range(num_players):\n",
    "        # Create a new network\n",
    "        x = network()\n",
    "        \n",
    "        # Add an input layer\n",
    "        input_layer_size = np.random.randint(10, 100)\n",
    "        x.append( np.random.random((453, input_layer_size))-0.5)\n",
    "        \n",
    "        # Add 10 to 99 interior layers\n",
    "        num_layers = np.random.randint(10, 100)\n",
    "        for j in range(num_layers):\n",
    "            m = x.layers[-1].shape[1]\n",
    "            n = np.random.randint(10, 100)\n",
    "            x.append(np.random.random((m, n))-0.5)\n",
    "        \n",
    "        \n",
    "        x.append( np.random.random((n, 2)) - 0.5 )\n",
    "        \n",
    "        pdata = pickle.dumps(x, pickle.HIGHEST_PROTOCOL)\n",
    "        \n",
    "        c.execute(\"INSERT INTO players VALUES (0, 0, 0, ?)\", (sqlite3.Binary(pdata), ))\n",
    "        \n",
    "    conn.commit()\n",
    "    conn.close()\n",
    "\n",
    "def select_two_players():\n",
    "    conn = sqlite3.connect('players.db')\n",
    "    c = conn.cursor()\n",
    "    c.execute('''SELECT * FROM players ORDER BY RANDOM() LIMIT 2;''')\n",
    "    \n",
    "    players = []\n",
    "    for row in c:\n",
    "        players.append( pickle.loads(row[2]) )\n",
    "    \n",
    "    return players[0], players[1]\n",
    "\n",
    "def get_move(player, fen_string):\n",
    "    playing_as = fen_string.split(' ')[1]\n",
    "    if playing_as == 'w':\n",
    "        score_index = 0\n",
    "    else:\n",
    "        score_index = 1\n",
    "    \n",
    "    board = chess.Board(fen_string)\n",
    "    \n",
    "    legal_moves = []\n",
    "    for move in board.legal_moves:\n",
    "        legal_moves.append(move)\n",
    "    \n",
    "    best_move = None\n",
    "    max_score = 0\n",
    "    \n",
    "    print(len(legal_moves))\n",
    "    for move in legal_moves:\n",
    "        board.push(move)\n",
    "        x = fen_to_input(board.fen())\n",
    "        score = player.output(x)[score_index]\n",
    "        board.pop()\n",
    "        \n",
    "        if score >= max_score:\n",
    "            best_move = move\n",
    "            max_score = score\n",
    "        \n",
    "    return best_move"
   ]
  },
  {
   "cell_type": "code",
   "execution_count": 72,
   "metadata": {
    "collapsed": false
   },
   "outputs": [],
   "source": [
    "x = network()\n",
    "input_layer_size = np.random.randint(10, 100)\n",
    "x.append( np.random.random((453, input_layer_size))-0.5)\n",
    "# Add 10 to 99 interior layers\n",
    "num_layers = np.random.randint(10, 100)\n",
    "for j in range(num_layers):\n",
    "    m = x.layers[-1].shape[1]\n",
    "    n = np.random.randint(10, 100)\n",
    "    x.append(np.random.random((m, n))-0.5)\n",
    "\n",
    "m = x.layers[-1].shape[1]\n",
    "n = 2\n",
    "x.append(np.random.random((m,n)) - 0.5)"
   ]
  },
  {
   "cell_type": "code",
   "execution_count": 73,
   "metadata": {
    "collapsed": false
   },
   "outputs": [
    {
     "data": {
      "text/plain": [
       "0"
      ]
     },
     "execution_count": 73,
     "metadata": {},
     "output_type": "execute_result"
    }
   ],
   "source": [
    "from tempfile import TemporaryFile\n",
    "outfile = TemporaryFile()\n",
    "\n",
    "x.save(outfile)\n",
    "outfile.seek(0)"
   ]
  },
  {
   "cell_type": "code",
   "execution_count": 74,
   "metadata": {
    "collapsed": false
   },
   "outputs": [],
   "source": [
    "from google.cloud import storage\n",
    "\n",
    "def upload_blob(bucket_name, source_file_name, destination_blob_name):\n",
    "    \"\"\"Uploads a file to the bucket.\"\"\"\n",
    "    storage_client = storage.Client()\n",
    "    bucket = storage_client.get_bucket(bucket_name)\n",
    "    blob = bucket.blob(destination_blob_name)\n",
    "\n",
    "    blob.upload_from_string(source_file_name)\n",
    "\n",
    "def download_blob(bucket_name, source_blob_name):\n",
    "    \"\"\"Downloads a blob from the bucket.\"\"\"\n",
    "    storage_client = storage.Client()\n",
    "    bucket = storage_client.get_bucket(bucket_name)\n",
    "    blob = bucket.blob(source_blob_name)\n",
    "\n",
    "    return blob.download_as_string()"
   ]
  },
  {
   "cell_type": "code",
   "execution_count": 75,
   "metadata": {
    "collapsed": false
   },
   "outputs": [],
   "source": [
    "from tempfile import TemporaryFile\n",
    "outfile = TemporaryFile()\n",
    "x.save(outfile)\n",
    "outfile.seek(0)\n",
    "\n",
    "upload_blob('chess-engine-181720-player-binaries', outfile.read(), 'ABC123')"
   ]
  },
  {
   "cell_type": "code",
   "execution_count": 76,
   "metadata": {
    "collapsed": false
   },
   "outputs": [],
   "source": [
    "dwn = TemporaryFile()\n",
    "dwn.write(download_blob('chess-engine-181720-player-binaries', 'ABC123'))\n",
    "dwn.seek(0)\n",
    "\n",
    "y = network()\n",
    "y.load(dwn)"
   ]
  },
  {
   "cell_type": "code",
   "execution_count": 82,
   "metadata": {
    "collapsed": false
   },
   "outputs": [],
   "source": [
    "fen = fen_to_input('rnbqkbnr/pp1ppppp/8/2p5/4P3/8/PPPP1PPP/RNBQKBNR w KQkq c6 0 2')"
   ]
  },
  {
   "cell_type": "code",
   "execution_count": 83,
   "metadata": {
    "collapsed": false
   },
   "outputs": [
    {
     "data": {
      "text/plain": [
       "array([ 1.,  0.])"
      ]
     },
     "execution_count": 83,
     "metadata": {},
     "output_type": "execute_result"
    }
   ],
   "source": [
    "y.output(fen)"
   ]
  },
  {
   "cell_type": "code",
   "execution_count": null,
   "metadata": {
    "collapsed": true
   },
   "outputs": [],
   "source": []
  }
 ],
 "metadata": {
  "kernelspec": {
   "display_name": "Python 3",
   "language": "python",
   "name": "python3"
  },
  "language_info": {
   "codemirror_mode": {
    "name": "ipython",
    "version": 3
   },
   "file_extension": ".py",
   "mimetype": "text/x-python",
   "name": "python",
   "nbconvert_exporter": "python",
   "pygments_lexer": "ipython3",
   "version": "3.6.0"
  }
 },
 "nbformat": 4,
 "nbformat_minor": 2
}
